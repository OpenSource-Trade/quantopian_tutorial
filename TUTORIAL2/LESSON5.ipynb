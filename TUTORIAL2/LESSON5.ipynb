{
 "cells": [
  {
   "cell_type": "markdown",
   "metadata": {},
   "source": [
    "## Filters"
   ]
  },
  {
   "cell_type": "code",
   "execution_count": 1,
   "metadata": {
    "collapsed": true
   },
   "outputs": [],
   "source": [
    "from quantopian.pipeline import Pipeline\n",
    "from quantopian.research import run_pipeline\n",
    "from quantopian.pipeline.data.builtin import USEquityPricing\n",
    "from quantopian.pipeline.factors import SimpleMovingAverage"
   ]
  },
  {
   "cell_type": "markdown",
   "metadata": {},
   "source": [
    "Filterは原資産と時系列データから真偽値を返す関数です。\n",
    "\n",
    "```\n",
    "F(asset, timestamp) -> boolean\n",
    "```\n",
    "\n",
    "フィルタは銘柄の絞り込みやpipelineの結果を絞り込むために使われます。フィルタを作成するためには比較演算子を用いる方法と Factor/Classifier メソッドを用いる方法があります。"
   ]
  },
  {
   "cell_type": "code",
   "execution_count": 2,
   "metadata": {
    "collapsed": true
   },
   "outputs": [],
   "source": [
    "last_close_price = USEquityPricing.close.latest\n",
    "close_price_filter = last_close_price > 20"
   ]
  },
  {
   "cell_type": "markdown",
   "metadata": {},
   "source": [
    "下記の例では10日間の移動平均が30日間の移動平均を下回った場合に `True` を返します。"
   ]
  },
  {
   "cell_type": "code",
   "execution_count": 3,
   "metadata": {
    "collapsed": true
   },
   "outputs": [],
   "source": [
    "mean_close_10 = SimpleMovingAverage(inputs=[USEquityPricing.close], window_length=10)\n",
    "mean_close_30 = SimpleMovingAverage(inputs=[USEquityPricing.close], window_length=30)\n",
    "mean_crossover_filter = mean_close_10 < mean_close_30"
   ]
  },
  {
   "cell_type": "markdown",
   "metadata": {},
   "source": [
    "Remember, each security will get its own `True` or `False` value each day."
   ]
  },
  {
   "cell_type": "markdown",
   "metadata": {},
   "source": [
    "銘柄ごと、日付ごとに異なる真偽値を持っていることに注意してください。"
   ]
  },
  {
   "cell_type": "markdown",
   "metadata": {},
   "source": [
    "### Factor/Classifier Methods"
   ]
  },
  {
   "cell_type": "markdown",
   "metadata": {},
   "source": [
    "`Factor` クラスと `Classifier` クラスのさまざまなメソッドは、`Filters` を返します。今回は `Factor` クラスのメソッドを用います(`Classifier` クラスについてはまだ触れていないため後ほど解説します)。`Factor.top(n)` メソッドは、特定のFactorの上位n個の銘柄に対して `True` を返すFilterを生成します。 次の例では、毎日上位200個の銘柄に対して `True` を返すフィルタを作成します。これらの銘柄がすべての銘柄の直近の終値で上位200に入ったことを示しています。"
   ]
  },
  {
   "cell_type": "code",
   "execution_count": 4,
   "metadata": {
    "collapsed": true
   },
   "outputs": [],
   "source": [
    "last_close_price = USEquityPricing.close.latest\n",
    "top_close_price_filter = last_close_price.top(200)"
   ]
  },
  {
   "cell_type": "markdown",
   "metadata": {},
   "source": [
    "* `Factor` クラスのリファレンス [this link](https://www.quantopian.com/help#quantopian_pipeline_factors_Factor).\n",
    "* `Classifier` クラスのリファレンス [this link](https://www.quantopian.com/help#quantopian_pipeline_classifiers_Classifier)."
   ]
  },
  {
   "cell_type": "markdown",
   "metadata": {},
   "source": [
    "## Dollar Volume Filter"
   ]
  },
  {
   "cell_type": "markdown",
   "metadata": {},
   "source": [
    "30日の売買代金の平均が10,000,000ドルを超えた場合に `True` を返すフィルタを作成してみます。組み込みFactorの `AverageDollarVolume` を用います。"
   ]
  },
  {
   "cell_type": "code",
   "execution_count": 5,
   "metadata": {
    "collapsed": true
   },
   "outputs": [],
   "source": [
    "from quantopian.pipeline.factors import AverageDollarVolume"
   ]
  },
  {
   "cell_type": "code",
   "execution_count": 6,
   "metadata": {
    "collapsed": true
   },
   "outputs": [],
   "source": [
    "dollar_volume = AverageDollarVolume(window_length=30)"
   ]
  },
  {
   "cell_type": "markdown",
   "metadata": {},
   "source": [
    "`AverageDollarVolume` はデフォルトで キーワード引数 `inputs` に `USEquityPricing.close` と `USEquityPricing.volume` が渡されるため省略できます。"
   ]
  },
  {
   "cell_type": "markdown",
   "metadata": {},
   "source": [
    "売買代金が10,000,000ドルを超える銘柄を抽出します。"
   ]
  },
  {
   "cell_type": "code",
   "execution_count": 7,
   "metadata": {
    "collapsed": false
   },
   "outputs": [],
   "source": [
    "high_dollar_volume = (dollar_volume > 10000000)"
   ]
  },
  {
   "cell_type": "markdown",
   "metadata": {},
   "source": [
    "pipelineに追加して中身を確認してみます。"
   ]
  },
  {
   "cell_type": "code",
   "execution_count": 8,
   "metadata": {
    "collapsed": true
   },
   "outputs": [],
   "source": [
    "def make_pipeline():\n",
    "\n",
    "    mean_close_10 = SimpleMovingAverage(inputs=[USEquityPricing.close], window_length=10)\n",
    "    mean_close_30 = SimpleMovingAverage(inputs=[USEquityPricing.close], window_length=30)\n",
    "\n",
    "    percent_difference = (mean_close_10 - mean_close_30) / mean_close_30\n",
    "    \n",
    "    dollar_volume = AverageDollarVolume(window_length=30)\n",
    "    high_dollar_volume = (dollar_volume > 10000000)\n",
    "\n",
    "    return Pipeline(\n",
    "        columns={\n",
    "            'percent_difference': percent_difference,\n",
    "            'high_dollar_volume': high_dollar_volume\n",
    "        }\n",
    "    )"
   ]
  },
  {
   "cell_type": "markdown",
   "metadata": {},
   "source": [
    "piplineを実行すると、'high_dollar_volume' 列に filter の真偽値が格納されます。"
   ]
  },
  {
   "cell_type": "code",
   "execution_count": 9,
   "metadata": {
    "collapsed": false
   },
   "outputs": [
    {
     "data": {
      "text/html": [
       "<div>\n",
       "<table border=\"1\" class=\"dataframe\">\n",
       "  <thead>\n",
       "    <tr style=\"text-align: right;\">\n",
       "      <th></th>\n",
       "      <th></th>\n",
       "      <th>high_dollar_volume</th>\n",
       "      <th>percent_difference</th>\n",
       "    </tr>\n",
       "  </thead>\n",
       "  <tbody>\n",
       "    <tr>\n",
       "      <th rowspan=\"5\" valign=\"top\">2015-05-05 00:00:00+00:00</th>\n",
       "      <th>Equity(2 [ARNC])</th>\n",
       "      <td>True</td>\n",
       "      <td>0.017975</td>\n",
       "    </tr>\n",
       "    <tr>\n",
       "      <th>Equity(21 [AAME])</th>\n",
       "      <td>False</td>\n",
       "      <td>-0.002325</td>\n",
       "    </tr>\n",
       "    <tr>\n",
       "      <th>Equity(24 [AAPL])</th>\n",
       "      <td>True</td>\n",
       "      <td>0.016905</td>\n",
       "    </tr>\n",
       "    <tr>\n",
       "      <th>Equity(25 [ARNC_PR])</th>\n",
       "      <td>False</td>\n",
       "      <td>0.021544</td>\n",
       "    </tr>\n",
       "    <tr>\n",
       "      <th>Equity(31 [ABAX])</th>\n",
       "      <td>False</td>\n",
       "      <td>-0.019639</td>\n",
       "    </tr>\n",
       "  </tbody>\n",
       "</table>\n",
       "</div>"
      ],
      "text/plain": [
       "                                               high_dollar_volume  \\\n",
       "2015-05-05 00:00:00+00:00 Equity(2 [ARNC])                   True   \n",
       "                          Equity(21 [AAME])                 False   \n",
       "                          Equity(24 [AAPL])                  True   \n",
       "                          Equity(25 [ARNC_PR])              False   \n",
       "                          Equity(31 [ABAX])                 False   \n",
       "\n",
       "                                                percent_difference  \n",
       "2015-05-05 00:00:00+00:00 Equity(2 [ARNC])                0.017975  \n",
       "                          Equity(21 [AAME])              -0.002325  \n",
       "                          Equity(24 [AAPL])               0.016905  \n",
       "                          Equity(25 [ARNC_PR])            0.021544  \n",
       "                          Equity(31 [ABAX])              -0.019639  "
      ]
     },
     "execution_count": 9,
     "metadata": {},
     "output_type": "execute_result"
    }
   ],
   "source": [
    "result = run_pipeline(make_pipeline(), '2015-05-05', '2015-05-05')\n",
    "result.head()"
   ]
  },
  {
   "cell_type": "markdown",
   "metadata": {},
   "source": [
    "## Applying a Screen"
   ]
  },
  {
   "cell_type": "markdown",
   "metadata": {},
   "source": [
    "パイプラインはデフォルトですべての銘柄に対して計算が実行されます。通常は特定の条件に合った銘柄のみ計算できれば問題ありません。フィルタ結果が `False` となる銘柄を計算対象から除外することができます。`Pipeline()` 関数のキーワード引数 `screen` に filter を指定します。"
   ]
  },
  {
   "cell_type": "code",
   "execution_count": 10,
   "metadata": {
    "collapsed": true
   },
   "outputs": [],
   "source": [
    "def make_pipeline():\n",
    "\n",
    "    mean_close_10 = SimpleMovingAverage(inputs=[USEquityPricing.close], window_length=10)\n",
    "    mean_close_30 = SimpleMovingAverage(inputs=[USEquityPricing.close], window_length=30)\n",
    "\n",
    "    percent_difference = (mean_close_10 - mean_close_30) / mean_close_30\n",
    "\n",
    "    dollar_volume = AverageDollarVolume(window_length=30)\n",
    "    high_dollar_volume = dollar_volume > 10000000\n",
    "\n",
    "    return Pipeline(\n",
    "        columns={\n",
    "            'percent_difference': percent_difference\n",
    "        },\n",
    "        screen=high_dollar_volume\n",
    "    )"
   ]
  },
  {
   "cell_type": "markdown",
   "metadata": {},
   "source": [
    "上記を実行すると high_dollar_volume の条件に合った銘柄のみが対象となります。2015年5月5日を指定して実行した場合には約2,100個の銘柄が対象となります。"
   ]
  },
  {
   "cell_type": "code",
   "execution_count": 11,
   "metadata": {
    "collapsed": false
   },
   "outputs": [
    {
     "name": "stdout",
     "output_type": "stream",
     "text": [
      "Number of securities that passed the filter: 2106\n"
     ]
    },
    {
     "data": {
      "text/html": [
       "<div>\n",
       "<table border=\"1\" class=\"dataframe\">\n",
       "  <thead>\n",
       "    <tr style=\"text-align: right;\">\n",
       "      <th></th>\n",
       "      <th></th>\n",
       "      <th>percent_difference</th>\n",
       "    </tr>\n",
       "  </thead>\n",
       "  <tbody>\n",
       "    <tr>\n",
       "      <th rowspan=\"5\" valign=\"top\">2015-05-05 00:00:00+00:00</th>\n",
       "      <th>Equity(2 [ARNC])</th>\n",
       "      <td>0.017975</td>\n",
       "    </tr>\n",
       "    <tr>\n",
       "      <th>Equity(24 [AAPL])</th>\n",
       "      <td>0.016905</td>\n",
       "    </tr>\n",
       "    <tr>\n",
       "      <th>Equity(53 [ABMD])</th>\n",
       "      <td>-0.024682</td>\n",
       "    </tr>\n",
       "    <tr>\n",
       "      <th>Equity(62 [ABT])</th>\n",
       "      <td>0.014385</td>\n",
       "    </tr>\n",
       "    <tr>\n",
       "      <th>Equity(64 [ABX])</th>\n",
       "      <td>0.046963</td>\n",
       "    </tr>\n",
       "  </tbody>\n",
       "</table>\n",
       "</div>"
      ],
      "text/plain": [
       "                                             percent_difference\n",
       "2015-05-05 00:00:00+00:00 Equity(2 [ARNC])             0.017975\n",
       "                          Equity(24 [AAPL])            0.016905\n",
       "                          Equity(53 [ABMD])           -0.024682\n",
       "                          Equity(62 [ABT])             0.014385\n",
       "                          Equity(64 [ABX])             0.046963"
      ]
     },
     "execution_count": 11,
     "metadata": {},
     "output_type": "execute_result"
    }
   ],
   "source": [
    "result = run_pipeline(make_pipeline(), '2015-05-05', '2015-05-05')\n",
    "print 'Number of securities that passed the filter: %d' % len(result)\n",
    "result.head()"
   ]
  },
  {
   "cell_type": "markdown",
   "metadata": {},
   "source": [
    "## Inverting a Filter"
   ]
  },
  {
   "cell_type": "markdown",
   "metadata": {},
   "source": [
    "~演算子は真偽値を反転させます。これまでと反対に売買代金が低い銘柄を抽出する場合には下記のように記載します。"
   ]
  },
  {
   "cell_type": "code",
   "execution_count": 12,
   "metadata": {
    "collapsed": true
   },
   "outputs": [],
   "source": [
    "low_dollar_volume = ~high_dollar_volume"
   ]
  },
  {
   "cell_type": "markdown",
   "metadata": {},
   "source": [
    "次のレッスンでは fitler を組み合わせを実施します。"
   ]
  }
 ],
 "metadata": {
  "kernelspec": {
   "display_name": "Python 2",
   "language": "python",
   "name": "python2"
  },
  "language_info": {
   "codemirror_mode": {
    "name": "ipython",
    "version": 2
   },
   "file_extension": ".py",
   "mimetype": "text/x-python",
   "name": "python",
   "nbconvert_exporter": "python",
   "pygments_lexer": "ipython2",
   "version": "2.7.12"
  }
 },
 "nbformat": 4,
 "nbformat_minor": 0
}