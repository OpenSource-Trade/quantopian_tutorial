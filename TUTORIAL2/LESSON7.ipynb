{
 "cells": [
  {
   "cell_type": "markdown",
   "metadata": {},
   "source": [
    "## Masking"
   ]
  },
  {
   "cell_type": "code",
   "execution_count": 1,
   "metadata": {
    "collapsed": true
   },
   "outputs": [],
   "source": [
    "from quantopian.pipeline import Pipeline\n",
    "from quantopian.research import run_pipeline\n",
    "from quantopian.pipeline.data.builtin import USEquityPricing\n",
    "from quantopian.pipeline.factors import SimpleMovingAverage, AverageDollarVolume"
   ]
  },
  {
   "cell_type": "markdown",
   "metadata": {},
   "source": [
    "pipelineを用いて算出する際に、特定の銘柄を無視したほうがよい場合があります。\n",
    "\n",
    "1. 計算コストが高いため、算出対象を特定の銘柄のみとしたい場合。\n",
    "   例: 回帰係数を算出するFactor([RollingLinearRegressionOfReturns](https://www.quantopian.com/help#quantopian_pipeline_factors_RollingLinearRegressionOfReturns))\n",
    "2. 銘柄同士の比較を実施する際に、流動性が低い銘柄を対象外としたい場合\n",
    "\n",
    "FactorとFactorのメソッドはキーワード引数 `mask` を設定することができます。この引数は銘柄に対した Filter である必要があります。"
   ]
  },
  {
   "cell_type": "markdown",
   "metadata": {},
   "source": [
    "### Masking Factors"
   ]
  },
  {
   "cell_type": "markdown",
   "metadata": {},
   "source": [
    "売買代金が10,000,000ドルを超える銘柄のみをpipelineで扱うケースを考えてみます。下記のコードでは `high_dollar_volume` という Filter を作成し、`SimpleMovingAverage()` のキーワード引数 `mask` に渡しています。これを実施することで出来高が多い銘柄のみを算出対象にできます。"
   ]
  },
  {
   "cell_type": "code",
   "execution_count": 2,
   "metadata": {
    "collapsed": false
   },
   "outputs": [],
   "source": [
    "# Dollar volume factor\n",
    "dollar_volume = AverageDollarVolume(window_length=30)\n",
    "\n",
    "# High dollar volume filter\n",
    "high_dollar_volume = (dollar_volume > 10000000)\n",
    "\n",
    "# Average close price factors\n",
    "mean_close_10 = SimpleMovingAverage(inputs=[USEquityPricing.close], window_length=10, mask=high_dollar_volume)\n",
    "mean_close_30 = SimpleMovingAverage(inputs=[USEquityPricing.close], window_length=30, mask=high_dollar_volume)\n",
    "\n",
    "# Relative difference factor\n",
    "percent_difference = (mean_close_10 - mean_close_30) / mean_close_30"
   ]
  },
  {
   "cell_type": "markdown",
   "metadata": {},
   "source": [
    "マスクを設定することで計算対象が8000銘柄程度から2000銘柄程度に抑えることができました。"
   ]
  },
  {
   "cell_type": "markdown",
   "metadata": {},
   "source": [
    "### Masking Filters"
   ]
  },
  {
   "cell_type": "markdown",
   "metadata": {},
   "source": [
    "マスクは `top` や `bottom` など、filterのメソットに対して指定できます。\n",
    "\n",
    "マスクは、組み合わせる前のステップでfilterを適用する場合に便利です。たとえば、下記の3つの条件に合致させるためのコードは次のようにします。\n",
    "1. 始値が最も高い上位50\n",
    "2. 売買代金が上位10％\n",
    "3. 終値が上位10%"
   ]
  },
  {
   "cell_type": "code",
   "execution_count": 3,
   "metadata": {
    "collapsed": false
   },
   "outputs": [],
   "source": [
    "# Dollar volume factor\n",
    "dollar_volume = AverageDollarVolume(window_length=30)\n",
    "\n",
    "# High dollar volume filter\n",
    "high_dollar_volume = dollar_volume.percentile_between(90,100)\n",
    "\n",
    "# Top open price filter (high dollar volume securities)\n",
    "top_open_price = USEquityPricing.open.latest.top(50, mask=high_dollar_volume)\n",
    "\n",
    "# Top percentile close price filter (high dollar volume, top 50 open price)\n",
    "high_close_price = USEquityPricing.close.latest.percentile_between(90, 100, mask=top_open_price)"
   ]
  },
  {
   "cell_type": "markdown",
   "metadata": {},
   "source": [
    "上記で作成した `high_close_price` を `Pipeline()` のキーワード引数 `screen` に渡します。"
   ]
  },
  {
   "cell_type": "code",
   "execution_count": 4,
   "metadata": {
    "collapsed": true
   },
   "outputs": [],
   "source": [
    "def make_pipeline():\n",
    "\n",
    "    # Dollar volume factor\n",
    "    dollar_volume = AverageDollarVolume(window_length=30)\n",
    "\n",
    "    # High dollar volume filter\n",
    "    high_dollar_volume = dollar_volume.percentile_between(90,100)\n",
    "\n",
    "    # Top open securities filter (high dollar volume securities)\n",
    "    top_open_price = USEquityPricing.open.latest.top(50, mask=high_dollar_volume)\n",
    "\n",
    "    # Top percentile close price filter (high dollar volume, top 50 open price)\n",
    "    high_close_price = USEquityPricing.close.latest.percentile_between(90, 100, mask=top_open_price)\n",
    "\n",
    "    return Pipeline(\n",
    "        screen=high_close_price\n",
    "    )"
   ]
  },
  {
   "cell_type": "markdown",
   "metadata": {},
   "source": [
    "上記のpipelineを実行すると、2015年5月5日の時点では5銘柄が処理されました。"
   ]
  },
  {
   "cell_type": "code",
   "execution_count": 5,
   "metadata": {
    "collapsed": false
   },
   "outputs": [
    {
     "name": "stdout",
     "output_type": "stream",
     "text": [
      "Number of securities that passed the filter: 5\n"
     ]
    }
   ],
   "source": [
    "result = run_pipeline(make_pipeline(), '2015-05-05', '2015-05-05')\n",
    "print 'Number of securities that passed the filter: %d' % len(result)"
   ]
  },
  {
   "cell_type": "markdown",
   "metadata": {},
   "source": [
    "次のレッスンではclassifiersを実施します。"
   ]
  }
 ],
 "metadata": {
  "kernelspec": {
   "display_name": "Python 2",
   "language": "python",
   "name": "python2"
  },
  "language_info": {
   "codemirror_mode": {
    "name": "ipython",
    "version": 2
   },
   "file_extension": ".py",
   "mimetype": "text/x-python",
   "name": "python",
   "nbconvert_exporter": "python",
   "pygments_lexer": "ipython2",
   "version": "2.7.12"
  }
 },
 "nbformat": 4,
 "nbformat_minor": 0
}