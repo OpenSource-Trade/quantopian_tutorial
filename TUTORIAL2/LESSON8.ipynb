{
 "cells": [
  {
   "cell_type": "markdown",
   "metadata": {},
   "source": [
    "## Classifiers"
   ]
  },
  {
   "cell_type": "code",
   "execution_count": 1,
   "metadata": {
    "collapsed": true
   },
   "outputs": [],
   "source": [
    "from quantopian.pipeline import Pipeline\n",
    "from quantopian.research import run_pipeline\n",
    "from quantopian.pipeline.factors import SimpleMovingAverage, AverageDollarVolume"
   ]
  },
  {
   "cell_type": "markdown",
   "metadata": {},
   "source": [
    "classifierは原資産と時系列データからカテゴリ変数を出力する関数です。\n",
    "\n",
    "```\n",
    "F(asset, timestamp) -> category\n",
    "```\n",
    "\n",
    "classifierの例として取引所のIDを取り上げます。`morningstar.share_class_reference.exchange_id`と銘柄のインスタンスを用います。"
   ]
  },
  {
   "cell_type": "code",
   "execution_count": 2,
   "metadata": {
    "collapsed": true
   },
   "outputs": [],
   "source": [
    "from quantopian.pipeline.data import morningstar\n",
    "\n",
    "# Since the underlying data of morningstar.share_class_reference.exchange_id\n",
    "# is of type string, .latest returns a Classifier\n",
    "exchange = morningstar.share_class_reference.exchange_id.latest"
   ]
  },
  {
   "cell_type": "markdown",
   "metadata": {},
   "source": [
    "これまではFactorのインスタンスからlatest属性を参照していましたが、今回はclassifierを用いた文字列のデータを扱います。\n",
    "\n",
    "銘柄に対してのモーニングスターのセクタコード算出します。元となるデータ型はint型ですがカテゴリ変数であるため数値ではありません。セクタコードを取得する倍には `Sector` クラスを用います。"
   ]
  },
  {
   "cell_type": "code",
   "execution_count": 3,
   "metadata": {
    "collapsed": false
   },
   "outputs": [],
   "source": [
    "from quantopian.pipeline.classifiers.morningstar import Sector\n",
    "morningstar_sector = Sector()"
   ]
  },
  {
   "cell_type": "markdown",
   "metadata": {},
   "source": [
    "上記は `morningstar.asset_classification.morningstar_sector_code.latest` と等価です。"
   ]
  },
  {
   "cell_type": "markdown",
   "metadata": {},
   "source": [
    "### Building Filters from Classifiers"
   ]
  },
  {
   "cell_type": "markdown",
   "metadata": {},
   "source": [
    "[Classifiers](https://www.quantopian.com/help#quantopian_pipeline_classifiers_Classifier) は `isnull`、`eq`、`startswith` などのメソッドが使えます。\n",
    "\n",
    "たとえば、ニューヨーク証券取引所のセクタを選択する場合は、`exchange` classifierの `eq` メソッドを用います。"
   ]
  },
  {
   "cell_type": "code",
   "execution_count": 4,
   "metadata": {
    "collapsed": true
   },
   "outputs": [],
   "source": [
    "nyse_filter = exchange.eq('NYS')"
   ]
  },
  {
   "cell_type": "markdown",
   "metadata": {},
   "source": [
    "このfilterは、最新の `exchange_id` から 'NYS'である銘柄に対して `True` を返します。"
   ]
  },
  {
   "cell_type": "markdown",
   "metadata": {},
   "source": [
    "### Quantiles"
   ]
  },
  {
   "cell_type": "markdown",
   "metadata": {},
   "source": [
    "ClassifiersはさまざまなFactorのメソッドから作成することができます。最も一般的な例として `quantiles` メソッドがあります。このメソッドはビン数を引数として渡します。下記の例は10日間の売買代金を十分位にしています。"
   ]
  },
  {
   "cell_type": "code",
   "execution_count": 5,
   "metadata": {
    "collapsed": false
   },
   "outputs": [],
   "source": [
    "a = AverageDollarVolume(window_length=10)"
   ]
  },
  {
   "cell_type": "code",
   "execution_count": 6,
   "metadata": {
    "collapsed": true
   },
   "outputs": [],
   "source": [
    "dollar_volume_decile = AverageDollarVolume(window_length=10).deciles()\n",
    "top_decile = (dollar_volume_decile.eq(9))"
   ]
  },
  {
   "cell_type": "markdown",
   "metadata": {},
   "source": [
    "piplineを実行するとこのようになります。"
   ]
  },
  {
   "cell_type": "code",
   "execution_count": 7,
   "metadata": {
    "collapsed": false
   },
   "outputs": [],
   "source": [
    "def make_pipeline():\n",
    "\n",
    "    exchange = morningstar.share_class_reference.exchange_id.latest\n",
    "    nyse_filter = exchange.eq('NYS')\n",
    "\n",
    "    morningstar_sector = Sector()\n",
    "\n",
    "    dollar_volume_decile = AverageDollarVolume(window_length=10).deciles()\n",
    "    top_decile = (dollar_volume_decile.eq(9))\n",
    "\n",
    "    return Pipeline(\n",
    "        columns={\n",
    "            'exchange': exchange,\n",
    "            'sector_code': morningstar_sector,\n",
    "            'dollar_volume_decile': dollar_volume_decile\n",
    "        },\n",
    "        screen=(nyse_filter & top_decile)\n",
    "    )"
   ]
  },
  {
   "cell_type": "code",
   "execution_count": 8,
   "metadata": {
    "collapsed": false
   },
   "outputs": [
    {
     "name": "stdout",
     "output_type": "stream",
     "text": [
      "Number of securities that passed the filter: 511\n"
     ]
    },
    {
     "data": {
      "text/html": [
       "<div>\n",
       "<table border=\"1\" class=\"dataframe\">\n",
       "  <thead>\n",
       "    <tr style=\"text-align: right;\">\n",
       "      <th></th>\n",
       "      <th></th>\n",
       "      <th>dollar_volume_decile</th>\n",
       "      <th>exchange</th>\n",
       "      <th>sector_code</th>\n",
       "    </tr>\n",
       "  </thead>\n",
       "  <tbody>\n",
       "    <tr>\n",
       "      <th rowspan=\"5\" valign=\"top\">2015-05-05 00:00:00+00:00</th>\n",
       "      <th>Equity(2 [ARNC])</th>\n",
       "      <td>9</td>\n",
       "      <td>NYS</td>\n",
       "      <td>101</td>\n",
       "    </tr>\n",
       "    <tr>\n",
       "      <th>Equity(62 [ABT])</th>\n",
       "      <td>9</td>\n",
       "      <td>NYS</td>\n",
       "      <td>206</td>\n",
       "    </tr>\n",
       "    <tr>\n",
       "      <th>Equity(64 [ABX])</th>\n",
       "      <td>9</td>\n",
       "      <td>NYS</td>\n",
       "      <td>101</td>\n",
       "    </tr>\n",
       "    <tr>\n",
       "      <th>Equity(76 [TAP])</th>\n",
       "      <td>9</td>\n",
       "      <td>NYS</td>\n",
       "      <td>205</td>\n",
       "    </tr>\n",
       "    <tr>\n",
       "      <th>Equity(128 [ADM])</th>\n",
       "      <td>9</td>\n",
       "      <td>NYS</td>\n",
       "      <td>205</td>\n",
       "    </tr>\n",
       "  </tbody>\n",
       "</table>\n",
       "</div>"
      ],
      "text/plain": [
       "                                             dollar_volume_decile exchange  \\\n",
       "2015-05-05 00:00:00+00:00 Equity(2 [ARNC])                      9      NYS   \n",
       "                          Equity(62 [ABT])                      9      NYS   \n",
       "                          Equity(64 [ABX])                      9      NYS   \n",
       "                          Equity(76 [TAP])                      9      NYS   \n",
       "                          Equity(128 [ADM])                     9      NYS   \n",
       "\n",
       "                                             sector_code  \n",
       "2015-05-05 00:00:00+00:00 Equity(2 [ARNC])           101  \n",
       "                          Equity(62 [ABT])           206  \n",
       "                          Equity(64 [ABX])           101  \n",
       "                          Equity(76 [TAP])           205  \n",
       "                          Equity(128 [ADM])          205  "
      ]
     },
     "execution_count": 8,
     "metadata": {},
     "output_type": "execute_result"
    }
   ],
   "source": [
    "result = run_pipeline(make_pipeline(), '2015-05-05', '2015-05-05')\n",
    "print 'Number of securities that passed the filter: %d' % len(result)\n",
    "result.head(5)"
   ]
  },
  {
   "cell_type": "markdown",
   "metadata": {},
   "source": [
    "次のレッスンではpiplineから異なるデータセットを扱います。"
   ]
  }
 ],
 "metadata": {
  "kernelspec": {
   "display_name": "Python 2",
   "language": "python",
   "name": "python2"
  },
  "language_info": {
   "codemirror_mode": {
    "name": "ipython",
    "version": 2
   },
   "file_extension": ".py",
   "mimetype": "text/x-python",
   "name": "python",
   "nbconvert_exporter": "python",
   "pygments_lexer": "ipython2",
   "version": "2.7.12"
  }
 },
 "nbformat": 4,
 "nbformat_minor": 0
}